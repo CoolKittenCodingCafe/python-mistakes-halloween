{
 "cells": [
  {
   "cell_type": "markdown",
   "metadata": {},
   "source": [
    "<img src=\"files/name.png\">\n",
    "\n",
    "# The three spookiest Python mistakes\n",
    "### A cute video tutorial full of cats by the Cool Kitten Coding Café\n",
    "\n",
    "\n",
    "#### For a coding cuteness overload click [here](https://youtu.be/Wx9-ylQeL2Y) to access the video tutorial.\n"
   ]
  },
  {
   "cell_type": "markdown",
   "metadata": {},
   "source": [
    "<img src=\"files/pumpkin.png\" width=\"128\" height=\"164\"><img src=\"files/four.png\" width=\"139\" height=\"64\">\n",
    "\n",
    "# Indentation\n",
    "* Always make sure to start typing your code on the edge. Do not leave a blank space.\n",
    "* Indent consistently throughout the blocks of code. \n",
    "* Use 4 whitespaces.\n"
   ]
  },
  {
   "cell_type": "markdown",
   "metadata": {},
   "source": [
    "<img src=\"files/coffin.png\" width=\"217\" height=\"132\">\n",
    "\n",
    "# Parentheses\n",
    "* You mustn't forget to close them.\n",
    "\n",
    "* Regular parentheses to call a function\n",
    "\n",
    "* Square brackets for creating lists and retrieving elements\n"
   ]
  },
  {
   "cell_type": "code",
   "execution_count": 1,
   "metadata": {},
   "outputs": [],
   "source": [
    "# Creating lists\n",
    "candies = ['caramels', 'chocolate', 'lollipops', 'gummies', 'sours']\n",
    "spiders = ['tarentula', 'avicularia', 'dipluridae', 'holothele']\n",
    "ghosts= ['ectoplasm', 'poltergeist', 'orbs']"
   ]
  },
  {
   "cell_type": "code",
   "execution_count": 2,
   "metadata": {},
   "outputs": [
    {
     "data": {
      "text/plain": [
       "'caramels'"
      ]
     },
     "execution_count": 2,
     "metadata": {},
     "output_type": "execute_result"
    }
   ],
   "source": [
    "# Retrieving elements\n",
    "candies[0]"
   ]
  },
  {
   "cell_type": "code",
   "execution_count": 3,
   "metadata": {},
   "outputs": [
    {
     "data": {
      "text/plain": [
       "'holothele'"
      ]
     },
     "execution_count": 3,
     "metadata": {},
     "output_type": "execute_result"
    }
   ],
   "source": [
    "spiders[3]"
   ]
  },
  {
   "cell_type": "code",
   "execution_count": 4,
   "metadata": {},
   "outputs": [
    {
     "data": {
      "text/plain": [
       "'poltergeist'"
      ]
     },
     "execution_count": 4,
     "metadata": {},
     "output_type": "execute_result"
    }
   ],
   "source": [
    "ghosts[1]"
   ]
  },
  {
   "cell_type": "markdown",
   "metadata": {},
   "source": [
    "* Curly braces for creating dictionaries"
   ]
  },
  {
   "cell_type": "code",
   "execution_count": 5,
   "metadata": {},
   "outputs": [],
   "source": [
    "# Create empty dictionary\n",
    "book_of_shadows={}"
   ]
  },
  {
   "cell_type": "code",
   "execution_count": 6,
   "metadata": {},
   "outputs": [],
   "source": [
    "# Create pre-populated dictionary\n",
    "my_spells = { \"type\": 'hex',\n",
    "              \"ingredient\": 'mandrake',\n",
    "              \"time\" : 20}"
   ]
  },
  {
   "cell_type": "code",
   "execution_count": 7,
   "metadata": {},
   "outputs": [
    {
     "name": "stdout",
     "output_type": "stream",
     "text": [
      "{'type': 'hex', 'ingredient': 'mandrake', 'time': 20}\n"
     ]
    }
   ],
   "source": [
    "# Print dictionary\n",
    "print(my_spells)"
   ]
  },
  {
   "cell_type": "code",
   "execution_count": 8,
   "metadata": {},
   "outputs": [
    {
     "name": "stdout",
     "output_type": "stream",
     "text": [
      "mandrake\n"
     ]
    }
   ],
   "source": [
    "# Get the value of the 'ingredient' key\n",
    "x = my_spells[\"ingredient\"]\n",
    "print(x)"
   ]
  },
  {
   "cell_type": "code",
   "execution_count": 9,
   "metadata": {},
   "outputs": [
    {
     "name": "stdout",
     "output_type": "stream",
     "text": [
      "{'type': 'hex', 'ingredient': 'mandrake', 'time': 10}\n"
     ]
    }
   ],
   "source": [
    "# Change the value of the 'time' key\n",
    "my_spells[\"time\"] = 10\n",
    "print(my_spells)"
   ]
  },
  {
   "cell_type": "code",
   "execution_count": 10,
   "metadata": {},
   "outputs": [
    {
     "name": "stdout",
     "output_type": "stream",
     "text": [
      "type\n",
      "ingredient\n",
      "time\n"
     ]
    }
   ],
   "source": [
    "# Loop to print the keys\n",
    "for x in my_spells:\n",
    "  print(x) "
   ]
  },
  {
   "cell_type": "code",
   "execution_count": 11,
   "metadata": {},
   "outputs": [
    {
     "name": "stdout",
     "output_type": "stream",
     "text": [
      "hex\n",
      "mandrake\n",
      "10\n"
     ]
    }
   ],
   "source": [
    "# Loop to print the values\n",
    "for x in my_spells:\n",
    "  print(my_spells[x]) "
   ]
  },
  {
   "cell_type": "markdown",
   "metadata": {},
   "source": [
    "# The colon\n",
    "While the colon is mostly known to specify the start of a block of code, it is also used for slicing.\n",
    "\n",
    "<img src=\"files/slicing.png\" width=\"225\" height=\"145\">"
   ]
  },
  {
   "cell_type": "markdown",
   "metadata": {},
   "source": [
    "In the example of the video, we slice the string Halloween. "
   ]
  },
  {
   "cell_type": "code",
   "execution_count": 12,
   "metadata": {},
   "outputs": [
    {
     "name": "stdout",
     "output_type": "stream",
     "text": [
      "Halloween\n"
     ]
    }
   ],
   "source": [
    "s=\"Halloween\"\n",
    "print(s)"
   ]
  },
  {
   "cell_type": "code",
   "execution_count": 13,
   "metadata": {},
   "outputs": [
    {
     "name": "stdout",
     "output_type": "stream",
     "text": [
      "H is at position 0 of the index\n"
     ]
    }
   ],
   "source": [
    "print(s[0], 'is at position 0 of the index')"
   ]
  },
  {
   "cell_type": "code",
   "execution_count": 14,
   "metadata": {},
   "outputs": [
    {
     "name": "stdout",
     "output_type": "stream",
     "text": [
      "llo is the slice from 2 to 5\n"
     ]
    }
   ],
   "source": [
    "print (s[2:5], 'is the slice from 2 to 5')"
   ]
  },
  {
   "cell_type": "markdown",
   "metadata": {},
   "source": [
    "Pay attention to the limits. 2 to 5, means from 2 to 4 included. 5 is excluded."
   ]
  },
  {
   "cell_type": "code",
   "execution_count": 15,
   "metadata": {},
   "outputs": [
    {
     "name": "stdout",
     "output_type": "stream",
     "text": [
      "oween is the slice from 4 to the end\n"
     ]
    }
   ],
   "source": [
    "print (s[4:], 'is the slice from 4 to the end')"
   ]
  },
  {
   "cell_type": "code",
   "execution_count": 16,
   "metadata": {},
   "outputs": [
    {
     "name": "stdout",
     "output_type": "stream",
     "text": [
      "Halloween - this method is the pythonic way of copying a string\n"
     ]
    }
   ],
   "source": [
    "print (s[:],'- this method is the pythonic way of copying a string')"
   ]
  },
  {
   "cell_type": "code",
   "execution_count": 17,
   "metadata": {},
   "outputs": [
    {
     "name": "stdout",
     "output_type": "stream",
     "text": [
      "loween is the slice from 3 to the end\n"
     ]
    }
   ],
   "source": [
    "print (s[3:300],'is the slice from 3 to the end')"
   ]
  },
  {
   "cell_type": "code",
   "execution_count": 18,
   "metadata": {},
   "outputs": [
    {
     "name": "stdout",
     "output_type": "stream",
     "text": [
      "w is the element at position 4\n"
     ]
    }
   ],
   "source": [
    "print (s[-4], 'is the element at position 4')"
   ]
  },
  {
   "cell_type": "code",
   "execution_count": 19,
   "metadata": {},
   "outputs": [
    {
     "name": "stdout",
     "output_type": "stream",
     "text": [
      "Ha is the slice from the beginning to minus 7\n"
     ]
    }
   ],
   "source": [
    "print (s[:-7], 'is the slice from the beginning to minus 7')"
   ]
  },
  {
   "cell_type": "markdown",
   "metadata": {},
   "source": [
    "The more you'll practice with lists, the easier it will get. \n",
    "## Don't forget to check out the super cute video tutorial [here](https://youtu.be/Wx9-ylQeL2Y ) and if you wish to support the Cool Kitten Coding Café, please subscribe.\n",
    "<img src=\"files/pumpkin.png\" width=\"128\" height=\"164\">"
   ]
  },
  {
   "cell_type": "code",
   "execution_count": null,
   "metadata": {},
   "outputs": [],
   "source": []
  }
 ],
 "metadata": {
  "kernelspec": {
   "display_name": "Python 3",
   "language": "python",
   "name": "python3"
  },
  "language_info": {
   "codemirror_mode": {
    "name": "ipython",
    "version": 3
   },
   "file_extension": ".py",
   "mimetype": "text/x-python",
   "name": "python",
   "nbconvert_exporter": "python",
   "pygments_lexer": "ipython3",
   "version": "3.7.3"
  }
 },
 "nbformat": 4,
 "nbformat_minor": 2
}
